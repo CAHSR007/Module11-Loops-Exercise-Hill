{
 "cells": [
  {
   "cell_type": "code",
   "execution_count": null,
   "metadata": {},
   "outputs": [],
   "source": [
    "### Exercise 1\n",
    "Create a multiplication table from 1 to 10\n"
   ]
  },
  {
   "cell_type": "code",
   "execution_count": 33,
   "metadata": {
    "scrolled": false
   },
   "outputs": [
    {
     "name": "stdout",
     "output_type": "stream",
     "text": [
      "1\t 2\t 3\t 4\t 5\t 6\t 7\t 8\t 9\t 10\t \n",
      "\n",
      "2\t 4\t 6\t 8\t 10\t 12\t 14\t 16\t 18\t 20\t \n",
      "\n",
      "3\t 6\t 9\t 12\t 15\t 18\t 21\t 24\t 27\t 30\t \n",
      "\n",
      "4\t 8\t 12\t 16\t 20\t 24\t 28\t 32\t 36\t 40\t \n",
      "\n",
      "5\t 10\t 15\t 20\t 25\t 30\t 35\t 40\t 45\t 50\t \n",
      "\n",
      "6\t 12\t 18\t 24\t 30\t 36\t 42\t 48\t 54\t 60\t \n",
      "\n",
      "7\t 14\t 21\t 28\t 35\t 42\t 49\t 56\t 63\t 70\t \n",
      "\n",
      "8\t 16\t 24\t 32\t 40\t 48\t 56\t 64\t 72\t 80\t \n",
      "\n",
      "9\t 18\t 27\t 36\t 45\t 54\t 63\t 72\t 81\t 90\t \n",
      "\n",
      "10\t 20\t 30\t 40\t 50\t 60\t 70\t 80\t 90\t 100\t \n",
      "\n"
     ]
    }
   ],
   "source": [
    "# start at 1 up to 11 non-inclusive, 1-10\n",
    "\n",
    "for  x in range(1, 11): \n",
    "    \n",
    "    for y in range(1, 11):\n",
    "        \n",
    "# print the product result with a tab on same line\n",
    "\n",
    "        print(f\"{x*y}\", end=\"\\t \")\n",
    "    \n",
    "# insert a blank line, skip a line\n",
    "\n",
    "    print(\"\\n\") "
   ]
  },
  {
   "cell_type": "markdown",
   "metadata": {},
   "source": [
    "### Exercise 2\n",
    "Write a program to find the Fibonacci numbers where each number is the sum of the two preceding ones, starting from 0 and 1. \n",
    "\n",
    "    e.g.\n",
    "    0, 1, 1, 2, 3, 5, 8, ...\n",
    "    \n",
    "Ask a user to enter a number. Next, generate user specified number of Fibonacci numbers into a list. Then print out the list. The output should look something like this:\n",
    "\n",
    "    How many Fibonacci numbers would you like to generate? 10    \n",
    "    10 Fibonacci numbers are [0, 1, 1, 2, 3, 5, 8, 13, 21, 34]."
   ]
  },
  {
   "cell_type": "code",
   "execution_count": 34,
   "metadata": {},
   "outputs": [
    {
     "name": "stdout",
     "output_type": "stream",
     "text": [
      "[0, 1, 1, 2, 3, 5, 8, 13, 21, 34]\n"
     ]
    }
   ],
   "source": [
    "#define Fibonacci function\n",
    "\n",
    "def fib_num(x):\n",
    "    fib_seq = [0, 1]\n",
    "    while len(fib_seq) < x:\n",
    "        fib_seq.append(fib_seq[-1] + fib_seq[-2])\n",
    "    return fib_seq\n",
    "\n",
    "# call  fib_num and pass int 10\n",
    "# Print the first 10 numbers in the Fibonacci sequence\n",
    "\n",
    "print(fib_num(10))"
   ]
  },
  {
   "cell_type": "code",
   "execution_count": 39,
   "metadata": {},
   "outputs": [
    {
     "name": "stdout",
     "output_type": "stream",
     "text": [
      "How many Fibonacci numbers do you need to generate? : 3\n",
      "The first 3 Fibonacci numbers in the  sequence are:\n",
      "[0, 1, 1]\n"
     ]
    }
   ],
   "source": [
    "def fib_num(x):\n",
    "    fib_seq = [0, 1]\n",
    "    while len(fib_seq) < x:\n",
    "        fib_seq.append(fib_seq[-1] + fib_seq[-2])\n",
    "    return fib_seq\n",
    "\n",
    "# Ask a user to enter a number\n",
    "\n",
    "x = int(input(\"How many Fibonacci numbers do you need to generate? : \"))\n",
    "fib_seq = fib_num(x)\n",
    "\n",
    "# generate user specified number of Fibonacci numbers into a list\n",
    "# print the list\n",
    "\n",
    "print(\"The first\", x, \"Fibonacci\", \"numbers in the  sequence are:\")\n",
    "print(fib_seq)"
   ]
  },
  {
   "cell_type": "code",
   "execution_count": null,
   "metadata": {},
   "outputs": [],
   "source": []
  },
  {
   "cell_type": "code",
   "execution_count": null,
   "metadata": {},
   "outputs": [],
   "source": []
  }
 ],
 "metadata": {
  "kernelspec": {
   "display_name": "Python 3 (ipykernel)",
   "language": "python",
   "name": "python3"
  },
  "language_info": {
   "codemirror_mode": {
    "name": "ipython",
    "version": 3
   },
   "file_extension": ".py",
   "mimetype": "text/x-python",
   "name": "python",
   "nbconvert_exporter": "python",
   "pygments_lexer": "ipython3",
   "version": "3.11.4"
  }
 },
 "nbformat": 4,
 "nbformat_minor": 4
}
